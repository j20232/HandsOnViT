{
 "metadata": {
  "language_info": {
   "codemirror_mode": {
    "name": "ipython",
    "version": 3
   },
   "file_extension": ".py",
   "mimetype": "text/x-python",
   "name": "python",
   "nbconvert_exporter": "python",
   "pygments_lexer": "ipython3",
   "version": "3.8.3-final"
  },
  "orig_nbformat": 2,
  "kernelspec": {
   "name": "python3",
   "display_name": "Python 3.8.3 64-bit ('handsonvit-USTeml1m-py3.8')",
   "metadata": {
    "interpreter": {
     "hash": "2eb4d191036e5e5d0c58d47f4f5f3e1d04b90fbbc80dfe0b0f7b849b0c277ed5"
    }
   }
  }
 },
 "nbformat": 4,
 "nbformat_minor": 2,
 "cells": [
  {
   "cell_type": "code",
   "execution_count": 11,
   "metadata": {},
   "outputs": [],
   "source": [
    "import torch\n",
    "from torch import nn\n",
    "import torch.nn.functional as F\n",
    "import einops"
   ]
  },
  {
   "source": [
    "## 1. Introduction\n",
    "\n",
    "**NOTE: most implementations are based on https://github.com/lucidrains/vit-pytorch.**\n",
    "\n",
    "To implement ViT which can be used for vision classification, we need to implement encoder of Transformer at first.  \n",
    "\n",
    "![architecture](assets/vit.png)"
   ],
   "cell_type": "markdown",
   "metadata": {}
  },
  {
   "source": [
    "## 2. Implement Encoder of Transformer\n",
    "The encoder contains two special modules, which are `FeedForward` and `Attention`.  \n",
    "Let's implement them.\n",
    "\n",
    "![](./assets/transformer.jpg)"
   ],
   "cell_type": "markdown",
   "metadata": {}
  },
  {
   "source": [
    "## 2.1 Attention\n",
    "Attention is a module to determine the positions to give attention from input data.  \n",
    "It convert three input vectors, query (Q), key (K) and value (V) to outputs.  \n",
    "\n",
    "Q and K are source values (hidden layers of the encoder), and V is a target value (hidden layer of the decoder).\n",
    "\n",
    "![](./assets/attention.png)\n",
    "\n"
   ],
   "cell_type": "markdown",
   "metadata": {}
  },
  {
   "source": [
    "### Scaled Dot-Product Atention\n",
    "$Attention(Q, K, V) = softmax(\\frac{QK^T}{\\sqrt{d_k}})V$\n",
    "\n",
    "where $d_k$ is dimension of K\n",
    "\n",
    "$\\frac{QK^T}{\\sqrt{d_k}}$ means weighted similarity of Q and K.  \n",
    "Attention is a method to extract a value (V) which is reconstructed from the key (K) corresponded to the query (Q)."
   ],
   "cell_type": "markdown",
   "metadata": {}
  },
  {
   "cell_type": "code",
   "execution_count": 220,
   "metadata": {},
   "outputs": [],
   "source": [
    "class OptionalMask(nn.Module):\n",
    "    def __init__(self):\n",
    "        super().__init__()\n",
    "    \n",
    "    def forward(self, x, mask=None):\n",
    "        if mask is None:\n",
    "            return x\n",
    "        mask_value = -torch.finfo(x.dtype).max\n",
    "        mask = F.pad(mask.flatten(1), (1, 0), value=True)\n",
    "        assert mask.shape[-1] == x.shape[-1], \"mask has incorrect dimensions\"\n",
    "        mask = mask[:, None, :] * mask[:, :, None]\n",
    "        x = x.masked_fill_(~mask, mask_value)\n",
    "        del mask\n",
    "        return x"
   ]
  },
  {
   "cell_type": "code",
   "execution_count": 246,
   "metadata": {},
   "outputs": [],
   "source": [
    "class ScaledDotProductAttention(nn.Module):\n",
    "    def __init__(self, dk):\n",
    "        super().__init__()\n",
    "        self.scale = dk ** -0.5  # \\sqrt{d_k}\n",
    "        self.opt_mask = OptionalMask()\n",
    "\n",
    "    def forward(self, q, k, v, mask=None):\n",
    "        # q, k: [batch_size, heads, num_patches, dk]\n",
    "        # x: [batch_size, heads, num_patches, num_patches]\n",
    "        x = torch.einsum('bhid,bhjd->bhij', q, k) # QK^T\n",
    "        x = x * self.scale\n",
    "        x = self.opt_mask(x, mask)\n",
    "        x = x.softmax(dim=-1)\n",
    "\n",
    "        # v: [batch_size, heads, num_patches, dv]\n",
    "        out = torch.einsum(\"bhij, bhjd->bhid\", x, v)\n",
    "        return out # [batch_size, heads, num_patches, dv]"
   ]
  },
  {
   "cell_type": "code",
   "execution_count": 247,
   "metadata": {},
   "outputs": [
    {
     "output_type": "stream",
     "name": "stdout",
     "text": [
      "torch.Size([5, 16, 65, 29])\n"
     ]
    }
   ],
   "source": [
    "batch_size = 5\n",
    "heads = 16   # This value will be defined at Multi-Head Attention\n",
    "num_patches = 65\n",
    "dk = 32 # (=dq)\n",
    "dv = 29\n",
    "\n",
    "q = torch.randn(batch_size, head, num_patches, dk)\n",
    "k = torch.randn(batch_size, head, num_patches, dk)\n",
    "v = torch.randn(batch_size, head, num_patches, dv)\n",
    "attn = ScaledDotProductAttention(dk)\n",
    "out = attn(q, k, v) # [batch_size, heads, num_patches, dv]\n",
    "print(out.shape)"
   ]
  },
  {
   "source": [
    "### Multi-Head Attention\n",
    "$MultiHead(Q, K, V) = Concat(haed_1,..., head_k)W^{o}$\n",
    "\n",
    "where  \n",
    "\n",
    "$head_i = Attention(QW_{i}^{Q}, KW_{i}^{K}, VW_{i}^{V})$\n",
    "\n",
    "where\n",
    "\n",
    "- $W_{i}^{Q} \\in {\\bf R}^{d_{model} \\times d_{k}}$: weighted matrix of Q\n",
    "- $W_{i}^{K} \\in {\\bf R}^{d_{model} \\times d_{k}}$: weighted matrix of K\n",
    "- $W_{i}^{V} \\in {\\bf R}^{d_{model} \\times d_{v}}$: weighted matrix of V\n",
    "- $W_{i}^{O} \\in {\\bf R}^{hd_{v} \\times d_{model}}$: overall weighted matrix"
   ],
   "cell_type": "markdown",
   "metadata": {}
  },
  {
   "cell_type": "code",
   "execution_count": 325,
   "metadata": {},
   "outputs": [],
   "source": [
    "class MultiHeadAttention(nn.Module):\n",
    "    def __init__(self, dim, heads=8, dim_head=64, dropout=0.):\n",
    "        # dk == dv == dim for easiness of implementation\n",
    "        super().__init__()\n",
    "        self.heads = heads # number of heads in Multi-head attention layer (h)\n",
    "        inner_dim = dm * heads\n",
    "        self.attn = ScaledDotProductAttention(inner_dim)\n",
    "        self.to_qkv = nn.Linear(dim, inner_dim * 3, bias = False)\n",
    "        self.to_out = nn.Sequential(\n",
    "            nn.Linear(inner_dim, dim),\n",
    "            nn.Dropout(dropout)\n",
    "        )\n",
    "    \n",
    "    def forward(self, x, mask=None):\n",
    "        # q, k: [batch_size, num_patches, dk]\n",
    "        # v: [batch_size, num_patches, dv]\n",
    "        qkv = self.to_qkv(x).chunk(3, dim = -1)\n",
    "        q, k, v = map(lambda t: rearrange(t, 'b n (h d) -> b h n d', h = self.heads), qkv)\n",
    "\n",
    "        # [batch_size, heads, num_patches, dm]\n",
    "        out = self.attn(q, k, v)\n",
    "        \n",
    "        # [batch_size, num_patches, heads * dm]\n",
    "        out = rearrange(out, \"b h n d -> b n (h d)\")\n",
    "\n",
    "        # [batch_size, num_patches, dv]\n",
    "        out = self.to_out(out)\n",
    "        return out"
   ]
  },
  {
   "cell_type": "code",
   "execution_count": 326,
   "metadata": {},
   "outputs": [
    {
     "output_type": "stream",
     "name": "stdout",
     "text": [
      "torch.Size([5, 65, 32])\n"
     ]
    }
   ],
   "source": [
    "batch_size = 5\n",
    "heads = 16   # This value will be defined at Multi-Head Attention\n",
    "num_patches = 65\n",
    "dim = 32  # dk == dv == dim for easiness of implementation\n",
    "dm = 1024 # model size\n",
    "\n",
    "x = torch.randn(batch_size, num_patches, dim)\n",
    "attn = MultiHeadAttention(dim, heads=heads, dim_head=dm)\n",
    "out = attn(x) # [batch_size, num_patches, dim]\n",
    "print(out.shape)"
   ]
  },
  {
   "source": [
    "## 2.1 Feed Forward"
   ],
   "cell_type": "markdown",
   "metadata": {}
  },
  {
   "cell_type": "code",
   "execution_count": 328,
   "metadata": {},
   "outputs": [],
   "source": [
    "class Residual(nn.Module):\n",
    "    def __init__(self, fn):\n",
    "        super().__init__()\n",
    "        self.fn = fn\n",
    "    def forward(self, x, **kwargs):\n",
    "        return self.fn(x, **kwargs) + x\n",
    "\n",
    "class PreNorm(nn.Module):\n",
    "    def __init__(self, dim, fn):\n",
    "        super().__init__()\n",
    "        self.norm = nn.LayerNorm(dim)\n",
    "        self.fn = fn\n",
    "    def forward(self, x, **kwargs):\n",
    "        return self.fn(self.norm(x), **kwargs)\n",
    "        \n",
    "class FeedForward(nn.Module):\n",
    "    def __init__(self, dim, hidden_dim, dropout = 0.):\n",
    "        super().__init__()\n",
    "        self.net = nn.Sequential(\n",
    "            nn.Linear(dim, hidden_dim),\n",
    "            nn.GELU(),\n",
    "            nn.Dropout(dropout),\n",
    "            nn.Linear(hidden_dim, dim),\n",
    "            nn.Dropout(dropout)\n",
    "        )\n",
    "    def forward(self, x):\n",
    "        return self.net(x)"
   ]
  },
  {
   "cell_type": "code",
   "execution_count": 329,
   "metadata": {},
   "outputs": [],
   "source": [
    "class Transformer(nn.Module):\n",
    "    def __init__(self, dim, depth, heads, dim_head, mlp_dim, dropout):\n",
    "        super().__init__()\n",
    "        self.layers = nn.ModuleList([])\n",
    "        for _ in range(depth):\n",
    "            self.layers.append(nn.ModuleList([\n",
    "                Residual(PreNorm(dim, MultiHeadAttention(dim, heads = heads, dim_head = dim_head, dropout = dropout))),\n",
    "                Residual(PreNorm(dim, FeedForward(dim, mlp_dim, dropout = dropout)))\n",
    "            ]))\n",
    "    def forward(self, x, mask = None):\n",
    "        # x's shape is always [batch, nh * nw, dim] \n",
    "        for attn, ff in self.layers:\n",
    "            x = attn(x, mask = mask)\n",
    "            x = ff(x)\n",
    "        return x"
   ]
  },
  {
   "cell_type": "code",
   "execution_count": 330,
   "metadata": {},
   "outputs": [],
   "source": [
    "class ViT(nn.Module):\n",
    "    def __init__(self, *, image_size, patch_size, num_classes, dim, depth, heads, mlp_dim, pool = 'cls', channels = 3, dim_head = 64, dropout = 0., emb_dropout = 0.):\n",
    "        super().__init__()\n",
    "        num_patches = (image_size // patch_size) ** 2\n",
    "        patch_dim = channels * patch_size ** 2\n",
    "        self.patch_size = patch_size\n",
    "        self.pos_embedding = nn.Parameter(torch.randn(1, num_patches + 1, dim))\n",
    "        self.patch_to_embedding = nn.Linear(patch_dim, dim)\n",
    "        self.cls_token = nn.Parameter(torch.randn(1, 1, dim))\n",
    "        self.dropout = nn.Dropout(emb_dropout)\n",
    "        self.transformer = Transformer(dim, depth, heads, dim_head, mlp_dim, dropout)\n",
    "        self.pool = pool\n",
    "        self.to_latent = nn.Identity()\n",
    "        self.mlp_head = nn.Sequential(\n",
    "            nn.LayerNorm(dim),\n",
    "            nn.Linear(dim, num_classes)\n",
    "        )\n",
    "\n",
    "    def forward(self, img, mask = None):\n",
    "        p = self.patch_size # user input. 32\n",
    "        # img: [batch, channels, height, width]\n",
    "        # [5, 3, 256, 256]\n",
    "        \n",
    "        # x: [batch, nh * nw, cp]\n",
    "        # where nh = height / p, nw = width / p (num of patch)\n",
    "        # cp = p * p * channels (all channels)\n",
    "        # [5, 256 / 32 * 256 / 32, 3 * 32 * 32] = [5, 64, 3074]\n",
    "        x = rearrange(img, 'b c (h p1) (w p2) -> b (h w) (p1 p2 c)', p1 = p, p2 = p)\n",
    "\n",
    "        # [5, 64, 1024]\n",
    "        # linear(cp, dim) = linear(3074, 1024)\n",
    "        x = self.patch_to_embedding(x)\n",
    "\n",
    "        b, n, _ = x.shape # batch size, number of patches\n",
    "\n",
    "        # [1, 1, dim] -> [batch, 1, dim]\n",
    "        cls_tokens = repeat(self.cls_token, '() n d -> b n d', b = b)\n",
    "\n",
    "        # [batch, nh * nw, dim] + [batch, 1, dim] -> [batch, nh * nw + 1, dim]\n",
    "        x = torch.cat((cls_tokens, x), dim=1)\n",
    "        x += self.pos_embedding[:, :(n + 1)]\n",
    "        x = self.dropout(x)\n",
    "        x = self.transformer(x, mask)\n",
    "        \n",
    "        # [batch, nh * nw + 1, dim] -> [batch, dim]\n",
    "        x = x.mean(dim = 1) if self.pool == 'mean' else x[:, 0]\n",
    "        x = self.to_latent(x)\n",
    "\n",
    "        return self.mlp_head(x)  # [batch, num_classes]"
   ]
  },
  {
   "cell_type": "code",
   "execution_count": 332,
   "metadata": {},
   "outputs": [
    {
     "output_type": "stream",
     "name": "stdout",
     "text": [
      "torch.Size([5, 1000])\n"
     ]
    }
   ],
   "source": [
    "img = torch.randn(5, 3, 256, 256)\n",
    "mask = torch.ones(1, 8, 8).bool() # optional mask, designating which patch to attend to\n",
    "v = ViT(\n",
    "    image_size = 256,\n",
    "    patch_size = 32,\n",
    "    num_classes = 1000,\n",
    "    dim = 1024,  # last dimension of output tensor after linear transformation\n",
    "    depth = 6,\n",
    "    heads = 16,\n",
    "    mlp_dim = 2048,\n",
    "    dropout = 0.1,\n",
    "    emb_dropout = 0.1\n",
    ")\n",
    "\n",
    "preds = v(img, mask = mask)  # [batch_size, num_classes]\n",
    "print(preds.shape)"
   ]
  },
  {
   "cell_type": "code",
   "execution_count": null,
   "metadata": {},
   "outputs": [],
   "source": []
  }
 ]
}